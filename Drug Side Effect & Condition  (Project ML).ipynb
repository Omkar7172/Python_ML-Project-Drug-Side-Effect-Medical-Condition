{
 "cells": [
  {
   "cell_type": "code",
   "execution_count": 2,
   "id": "227be016-c0a8-49b6-b190-a3775fefcfc3",
   "metadata": {},
   "outputs": [],
   "source": [
    "import pandas as pd\n",
    "import numpy as np"
   ]
  },
  {
   "cell_type": "code",
   "execution_count": 122,
   "id": "aaf156c6-0b9f-40fa-b6c6-62a2e959f18e",
   "metadata": {
    "scrolled": true
   },
   "outputs": [
    {
     "data": {
      "text/html": [
       "<div>\n",
       "<style scoped>\n",
       "    .dataframe tbody tr th:only-of-type {\n",
       "        vertical-align: middle;\n",
       "    }\n",
       "\n",
       "    .dataframe tbody tr th {\n",
       "        vertical-align: top;\n",
       "    }\n",
       "\n",
       "    .dataframe thead th {\n",
       "        text-align: right;\n",
       "    }\n",
       "</style>\n",
       "<table border=\"1\" class=\"dataframe\">\n",
       "  <thead>\n",
       "    <tr style=\"text-align: right;\">\n",
       "      <th></th>\n",
       "      <th>drug_name</th>\n",
       "      <th>medical_condition</th>\n",
       "      <th>side_effects</th>\n",
       "      <th>generic_name</th>\n",
       "      <th>drug_classes</th>\n",
       "      <th>brand_names</th>\n",
       "      <th>activity</th>\n",
       "      <th>rx_otc</th>\n",
       "      <th>pregnancy_category</th>\n",
       "      <th>csa</th>\n",
       "      <th>alcohol</th>\n",
       "      <th>related_drugs</th>\n",
       "      <th>medical_condition_description</th>\n",
       "      <th>rating</th>\n",
       "      <th>no_of_reviews</th>\n",
       "      <th>drug_link</th>\n",
       "      <th>medical_condition_url</th>\n",
       "    </tr>\n",
       "  </thead>\n",
       "  <tbody>\n",
       "    <tr>\n",
       "      <th>0</th>\n",
       "      <td>doxycycline</td>\n",
       "      <td>Acne</td>\n",
       "      <td>(hives, difficult breathing, swelling in your ...</td>\n",
       "      <td>doxycycline</td>\n",
       "      <td>Miscellaneous antimalarials, Tetracyclines</td>\n",
       "      <td>Acticlate, Adoxa CK, Adoxa Pak, Adoxa TT, Alod...</td>\n",
       "      <td>87%</td>\n",
       "      <td>Rx</td>\n",
       "      <td>D</td>\n",
       "      <td>N</td>\n",
       "      <td>X</td>\n",
       "      <td>amoxicillin: https://www.drugs.com/amoxicillin...</td>\n",
       "      <td>Acne Other names: Acne Vulgaris; Blackheads; B...</td>\n",
       "      <td>6.8</td>\n",
       "      <td>760.0</td>\n",
       "      <td>https://www.drugs.com/doxycycline.html</td>\n",
       "      <td>https://www.drugs.com/condition/acne.html</td>\n",
       "    </tr>\n",
       "    <tr>\n",
       "      <th>1</th>\n",
       "      <td>spironolactone</td>\n",
       "      <td>Acne</td>\n",
       "      <td>hives ; difficulty breathing; swelling of your...</td>\n",
       "      <td>spironolactone</td>\n",
       "      <td>Aldosterone receptor antagonists, Potassium-sp...</td>\n",
       "      <td>Aldactone, CaroSpir</td>\n",
       "      <td>82%</td>\n",
       "      <td>Rx</td>\n",
       "      <td>C</td>\n",
       "      <td>N</td>\n",
       "      <td>X</td>\n",
       "      <td>amlodipine: https://www.drugs.com/amlodipine.h...</td>\n",
       "      <td>Acne Other names: Acne Vulgaris; Blackheads; B...</td>\n",
       "      <td>7.2</td>\n",
       "      <td>449.0</td>\n",
       "      <td>https://www.drugs.com/spironolactone.html</td>\n",
       "      <td>https://www.drugs.com/condition/acne.html</td>\n",
       "    </tr>\n",
       "    <tr>\n",
       "      <th>2</th>\n",
       "      <td>minocycline</td>\n",
       "      <td>Acne</td>\n",
       "      <td>skin rash, fever, swollen glands, flu-like sym...</td>\n",
       "      <td>minocycline</td>\n",
       "      <td>Tetracyclines</td>\n",
       "      <td>Dynacin, Minocin, Minolira, Solodyn, Ximino, V...</td>\n",
       "      <td>48%</td>\n",
       "      <td>Rx</td>\n",
       "      <td>D</td>\n",
       "      <td>N</td>\n",
       "      <td>NaN</td>\n",
       "      <td>amoxicillin: https://www.drugs.com/amoxicillin...</td>\n",
       "      <td>Acne Other names: Acne Vulgaris; Blackheads; B...</td>\n",
       "      <td>5.7</td>\n",
       "      <td>482.0</td>\n",
       "      <td>https://www.drugs.com/minocycline.html</td>\n",
       "      <td>https://www.drugs.com/condition/acne.html</td>\n",
       "    </tr>\n",
       "    <tr>\n",
       "      <th>3</th>\n",
       "      <td>Accutane</td>\n",
       "      <td>Acne</td>\n",
       "      <td>problems with your vision or hearing; muscle o...</td>\n",
       "      <td>isotretinoin (oral)</td>\n",
       "      <td>Miscellaneous antineoplastics, Miscellaneous u...</td>\n",
       "      <td>NaN</td>\n",
       "      <td>41%</td>\n",
       "      <td>Rx</td>\n",
       "      <td>X</td>\n",
       "      <td>N</td>\n",
       "      <td>X</td>\n",
       "      <td>doxycycline: https://www.drugs.com/doxycycline...</td>\n",
       "      <td>Acne Other names: Acne Vulgaris; Blackheads; B...</td>\n",
       "      <td>7.9</td>\n",
       "      <td>623.0</td>\n",
       "      <td>https://www.drugs.com/accutane.html</td>\n",
       "      <td>https://www.drugs.com/condition/acne.html</td>\n",
       "    </tr>\n",
       "    <tr>\n",
       "      <th>4</th>\n",
       "      <td>clindamycin</td>\n",
       "      <td>Acne</td>\n",
       "      <td>hives ; difficult breathing; swelling of your ...</td>\n",
       "      <td>clindamycin topical</td>\n",
       "      <td>Topical acne agents, Vaginal anti-infectives</td>\n",
       "      <td>Cleocin T, Clindacin ETZ, Clindacin P, Clindag...</td>\n",
       "      <td>39%</td>\n",
       "      <td>Rx</td>\n",
       "      <td>B</td>\n",
       "      <td>N</td>\n",
       "      <td>NaN</td>\n",
       "      <td>doxycycline: https://www.drugs.com/doxycycline...</td>\n",
       "      <td>Acne Other names: Acne Vulgaris; Blackheads; B...</td>\n",
       "      <td>7.4</td>\n",
       "      <td>146.0</td>\n",
       "      <td>https://www.drugs.com/mtm/clindamycin-topical....</td>\n",
       "      <td>https://www.drugs.com/condition/acne.html</td>\n",
       "    </tr>\n",
       "    <tr>\n",
       "      <th>...</th>\n",
       "      <td>...</td>\n",
       "      <td>...</td>\n",
       "      <td>...</td>\n",
       "      <td>...</td>\n",
       "      <td>...</td>\n",
       "      <td>...</td>\n",
       "      <td>...</td>\n",
       "      <td>...</td>\n",
       "      <td>...</td>\n",
       "      <td>...</td>\n",
       "      <td>...</td>\n",
       "      <td>...</td>\n",
       "      <td>...</td>\n",
       "      <td>...</td>\n",
       "      <td>...</td>\n",
       "      <td>...</td>\n",
       "      <td>...</td>\n",
       "    </tr>\n",
       "    <tr>\n",
       "      <th>2926</th>\n",
       "      <td>benzphetamine</td>\n",
       "      <td>Weight Loss</td>\n",
       "      <td>hives ; difficulty breathing; swelling of your...</td>\n",
       "      <td>benzphetamine</td>\n",
       "      <td>Anorexiants, CNS stimulants</td>\n",
       "      <td>Didrex, Regimex</td>\n",
       "      <td>2%</td>\n",
       "      <td>Rx</td>\n",
       "      <td>X</td>\n",
       "      <td>3</td>\n",
       "      <td>X</td>\n",
       "      <td>phentermine: https://www.drugs.com/phentermine...</td>\n",
       "      <td>Weight Loss (Obesity/Overweight) More than hal...</td>\n",
       "      <td>7.5</td>\n",
       "      <td>17.0</td>\n",
       "      <td>https://www.drugs.com/mtm/benzphetamine.html</td>\n",
       "      <td>https://www.drugs.com/condition/obesity.html</td>\n",
       "    </tr>\n",
       "    <tr>\n",
       "      <th>2927</th>\n",
       "      <td>fenfluramine</td>\n",
       "      <td>Weight Loss</td>\n",
       "      <td>hives ; difficult breathing; swelling of your ...</td>\n",
       "      <td>fenfluramine</td>\n",
       "      <td>Anorexiants, CNS stimulants, Miscellaneous ant...</td>\n",
       "      <td>Fintepla</td>\n",
       "      <td>1%</td>\n",
       "      <td>Rx</td>\n",
       "      <td>C</td>\n",
       "      <td>4</td>\n",
       "      <td>X</td>\n",
       "      <td>NaN</td>\n",
       "      <td>Weight Loss (Obesity/Overweight) More than hal...</td>\n",
       "      <td>NaN</td>\n",
       "      <td>NaN</td>\n",
       "      <td>https://www.drugs.com/mtm/fenfluramine.html</td>\n",
       "      <td>https://www.drugs.com/condition/obesity.html</td>\n",
       "    </tr>\n",
       "    <tr>\n",
       "      <th>2928</th>\n",
       "      <td>Fendique ER</td>\n",
       "      <td>Weight Loss</td>\n",
       "      <td>NaN</td>\n",
       "      <td>phendimetrazine tartrate</td>\n",
       "      <td>Anorexiants, CNS stimulants</td>\n",
       "      <td>NaN</td>\n",
       "      <td>0%</td>\n",
       "      <td>Rx</td>\n",
       "      <td>C</td>\n",
       "      <td>3</td>\n",
       "      <td>X</td>\n",
       "      <td>phentermine: https://www.drugs.com/phentermine...</td>\n",
       "      <td>Weight Loss (Obesity/Overweight) More than hal...</td>\n",
       "      <td>NaN</td>\n",
       "      <td>NaN</td>\n",
       "      <td>https://www.drugs.com/pro/fendique-er.html</td>\n",
       "      <td>https://www.drugs.com/condition/obesity.html</td>\n",
       "    </tr>\n",
       "    <tr>\n",
       "      <th>2929</th>\n",
       "      <td>Imcivree</td>\n",
       "      <td>Weight Loss</td>\n",
       "      <td>Imcivree may cause serious side effects, inclu...</td>\n",
       "      <td>setmelanotide</td>\n",
       "      <td>Melanocortin receptor agonists</td>\n",
       "      <td>NaN</td>\n",
       "      <td>0%</td>\n",
       "      <td>Rx</td>\n",
       "      <td>NaN</td>\n",
       "      <td>N</td>\n",
       "      <td>NaN</td>\n",
       "      <td>phentermine: https://www.drugs.com/phentermine...</td>\n",
       "      <td>Weight Loss (Obesity/Overweight) More than hal...</td>\n",
       "      <td>NaN</td>\n",
       "      <td>NaN</td>\n",
       "      <td>https://www.drugs.com/imcivree.html</td>\n",
       "      <td>https://www.drugs.com/condition/obesity.html</td>\n",
       "    </tr>\n",
       "    <tr>\n",
       "      <th>2930</th>\n",
       "      <td>setmelanotide</td>\n",
       "      <td>Weight Loss</td>\n",
       "      <td>hives ; difficult breathing; swelling of your ...</td>\n",
       "      <td>setmelanotide</td>\n",
       "      <td>Melanocortin receptor agonists</td>\n",
       "      <td>Imcivree</td>\n",
       "      <td>0%</td>\n",
       "      <td>Rx</td>\n",
       "      <td>NaN</td>\n",
       "      <td>N</td>\n",
       "      <td>NaN</td>\n",
       "      <td>phentermine: https://www.drugs.com/phentermine...</td>\n",
       "      <td>Weight Loss (Obesity/Overweight) More than hal...</td>\n",
       "      <td>NaN</td>\n",
       "      <td>NaN</td>\n",
       "      <td>https://www.drugs.com/mtm/setmelanotide.html</td>\n",
       "      <td>https://www.drugs.com/condition/obesity.html</td>\n",
       "    </tr>\n",
       "  </tbody>\n",
       "</table>\n",
       "<p>2931 rows × 17 columns</p>\n",
       "</div>"
      ],
      "text/plain": [
       "           drug_name medical_condition  \\\n",
       "0        doxycycline              Acne   \n",
       "1     spironolactone              Acne   \n",
       "2        minocycline              Acne   \n",
       "3           Accutane              Acne   \n",
       "4        clindamycin              Acne   \n",
       "...              ...               ...   \n",
       "2926   benzphetamine       Weight Loss   \n",
       "2927    fenfluramine       Weight Loss   \n",
       "2928     Fendique ER       Weight Loss   \n",
       "2929        Imcivree       Weight Loss   \n",
       "2930   setmelanotide       Weight Loss   \n",
       "\n",
       "                                           side_effects  \\\n",
       "0     (hives, difficult breathing, swelling in your ...   \n",
       "1     hives ; difficulty breathing; swelling of your...   \n",
       "2     skin rash, fever, swollen glands, flu-like sym...   \n",
       "3     problems with your vision or hearing; muscle o...   \n",
       "4     hives ; difficult breathing; swelling of your ...   \n",
       "...                                                 ...   \n",
       "2926  hives ; difficulty breathing; swelling of your...   \n",
       "2927  hives ; difficult breathing; swelling of your ...   \n",
       "2928                                                NaN   \n",
       "2929  Imcivree may cause serious side effects, inclu...   \n",
       "2930  hives ; difficult breathing; swelling of your ...   \n",
       "\n",
       "                  generic_name  \\\n",
       "0                  doxycycline   \n",
       "1               spironolactone   \n",
       "2                  minocycline   \n",
       "3          isotretinoin (oral)   \n",
       "4          clindamycin topical   \n",
       "...                        ...   \n",
       "2926             benzphetamine   \n",
       "2927              fenfluramine   \n",
       "2928  phendimetrazine tartrate   \n",
       "2929             setmelanotide   \n",
       "2930             setmelanotide   \n",
       "\n",
       "                                           drug_classes  \\\n",
       "0            Miscellaneous antimalarials, Tetracyclines   \n",
       "1     Aldosterone receptor antagonists, Potassium-sp...   \n",
       "2                                         Tetracyclines   \n",
       "3     Miscellaneous antineoplastics, Miscellaneous u...   \n",
       "4          Topical acne agents, Vaginal anti-infectives   \n",
       "...                                                 ...   \n",
       "2926                        Anorexiants, CNS stimulants   \n",
       "2927  Anorexiants, CNS stimulants, Miscellaneous ant...   \n",
       "2928                        Anorexiants, CNS stimulants   \n",
       "2929                     Melanocortin receptor agonists   \n",
       "2930                     Melanocortin receptor agonists   \n",
       "\n",
       "                                            brand_names activity rx_otc  \\\n",
       "0     Acticlate, Adoxa CK, Adoxa Pak, Adoxa TT, Alod...      87%     Rx   \n",
       "1                                   Aldactone, CaroSpir      82%     Rx   \n",
       "2     Dynacin, Minocin, Minolira, Solodyn, Ximino, V...      48%     Rx   \n",
       "3                                                   NaN      41%     Rx   \n",
       "4     Cleocin T, Clindacin ETZ, Clindacin P, Clindag...      39%     Rx   \n",
       "...                                                 ...      ...    ...   \n",
       "2926                                    Didrex, Regimex       2%     Rx   \n",
       "2927                                           Fintepla       1%     Rx   \n",
       "2928                                                NaN       0%     Rx   \n",
       "2929                                                NaN       0%     Rx   \n",
       "2930                                           Imcivree       0%     Rx   \n",
       "\n",
       "     pregnancy_category csa alcohol  \\\n",
       "0                     D   N       X   \n",
       "1                     C   N       X   \n",
       "2                     D   N     NaN   \n",
       "3                     X   N       X   \n",
       "4                     B   N     NaN   \n",
       "...                 ...  ..     ...   \n",
       "2926                  X   3       X   \n",
       "2927                  C   4       X   \n",
       "2928                  C   3       X   \n",
       "2929                NaN   N     NaN   \n",
       "2930                NaN   N     NaN   \n",
       "\n",
       "                                          related_drugs  \\\n",
       "0     amoxicillin: https://www.drugs.com/amoxicillin...   \n",
       "1     amlodipine: https://www.drugs.com/amlodipine.h...   \n",
       "2     amoxicillin: https://www.drugs.com/amoxicillin...   \n",
       "3     doxycycline: https://www.drugs.com/doxycycline...   \n",
       "4     doxycycline: https://www.drugs.com/doxycycline...   \n",
       "...                                                 ...   \n",
       "2926  phentermine: https://www.drugs.com/phentermine...   \n",
       "2927                                                NaN   \n",
       "2928  phentermine: https://www.drugs.com/phentermine...   \n",
       "2929  phentermine: https://www.drugs.com/phentermine...   \n",
       "2930  phentermine: https://www.drugs.com/phentermine...   \n",
       "\n",
       "                          medical_condition_description  rating  \\\n",
       "0     Acne Other names: Acne Vulgaris; Blackheads; B...     6.8   \n",
       "1     Acne Other names: Acne Vulgaris; Blackheads; B...     7.2   \n",
       "2     Acne Other names: Acne Vulgaris; Blackheads; B...     5.7   \n",
       "3     Acne Other names: Acne Vulgaris; Blackheads; B...     7.9   \n",
       "4     Acne Other names: Acne Vulgaris; Blackheads; B...     7.4   \n",
       "...                                                 ...     ...   \n",
       "2926  Weight Loss (Obesity/Overweight) More than hal...     7.5   \n",
       "2927  Weight Loss (Obesity/Overweight) More than hal...     NaN   \n",
       "2928  Weight Loss (Obesity/Overweight) More than hal...     NaN   \n",
       "2929  Weight Loss (Obesity/Overweight) More than hal...     NaN   \n",
       "2930  Weight Loss (Obesity/Overweight) More than hal...     NaN   \n",
       "\n",
       "      no_of_reviews                                          drug_link  \\\n",
       "0             760.0             https://www.drugs.com/doxycycline.html   \n",
       "1             449.0          https://www.drugs.com/spironolactone.html   \n",
       "2             482.0             https://www.drugs.com/minocycline.html   \n",
       "3             623.0                https://www.drugs.com/accutane.html   \n",
       "4             146.0  https://www.drugs.com/mtm/clindamycin-topical....   \n",
       "...             ...                                                ...   \n",
       "2926           17.0       https://www.drugs.com/mtm/benzphetamine.html   \n",
       "2927            NaN        https://www.drugs.com/mtm/fenfluramine.html   \n",
       "2928            NaN         https://www.drugs.com/pro/fendique-er.html   \n",
       "2929            NaN                https://www.drugs.com/imcivree.html   \n",
       "2930            NaN       https://www.drugs.com/mtm/setmelanotide.html   \n",
       "\n",
       "                             medical_condition_url  \n",
       "0        https://www.drugs.com/condition/acne.html  \n",
       "1        https://www.drugs.com/condition/acne.html  \n",
       "2        https://www.drugs.com/condition/acne.html  \n",
       "3        https://www.drugs.com/condition/acne.html  \n",
       "4        https://www.drugs.com/condition/acne.html  \n",
       "...                                            ...  \n",
       "2926  https://www.drugs.com/condition/obesity.html  \n",
       "2927  https://www.drugs.com/condition/obesity.html  \n",
       "2928  https://www.drugs.com/condition/obesity.html  \n",
       "2929  https://www.drugs.com/condition/obesity.html  \n",
       "2930  https://www.drugs.com/condition/obesity.html  \n",
       "\n",
       "[2931 rows x 17 columns]"
      ]
     },
     "execution_count": 122,
     "metadata": {},
     "output_type": "execute_result"
    }
   ],
   "source": [
    "# Read the CSV file into a DataFrame\n",
    "url='Downloads/drugs_side_effects_drugs_com.csv'\n",
    "data= pd.read_csv(url)\n",
    "data"
   ]
  },
  {
   "cell_type": "code",
   "execution_count": 78,
   "id": "0cf76a45-4558-4edb-9b1d-b9eaf5690f8a",
   "metadata": {},
   "outputs": [
    {
     "name": "stdout",
     "output_type": "stream",
     "text": [
      "The dataset has 2931 rows and 17 columns\n",
      "column:\n",
      "Index(['drug_name', 'medical_condition', 'side_effects', 'generic_name',\n",
      "       'drug_classes', 'brand_names', 'activity', 'rx_otc',\n",
      "       'pregnancy_category', 'csa', 'alcohol', 'related_drugs',\n",
      "       'medical_condition_description', 'rating', 'no_of_reviews', 'drug_link',\n",
      "       'medical_condition_url'],\n",
      "      dtype='object')\n"
     ]
    }
   ],
   "source": [
    "# Display the columns quantity and names\n",
    "print('The dataset has {} rows and {} columns'.format(data.shape[0], data.shape[1]))\n",
    "print(\"column:\")\n",
    "print(data.columns)"
   ]
  },
  {
   "cell_type": "code",
   "execution_count": 124,
   "id": "849baf82-e348-4b80-ae21-aea9b3214ebe",
   "metadata": {},
   "outputs": [
    {
     "name": "stdout",
     "output_type": "stream",
     "text": [
      "<class 'pandas.core.frame.DataFrame'>\n",
      "RangeIndex: 2931 entries, 0 to 2930\n",
      "Data columns (total 17 columns):\n",
      " #   Column                         Non-Null Count  Dtype  \n",
      "---  ------                         --------------  -----  \n",
      " 0   drug_name                      2931 non-null   object \n",
      " 1   medical_condition              2931 non-null   object \n",
      " 2   side_effects                   2807 non-null   object \n",
      " 3   generic_name                   2888 non-null   object \n",
      " 4   drug_classes                   2849 non-null   object \n",
      " 5   brand_names                    1718 non-null   object \n",
      " 6   activity                       2931 non-null   object \n",
      " 7   rx_otc                         2930 non-null   object \n",
      " 8   pregnancy_category             2702 non-null   object \n",
      " 9   csa                            2931 non-null   object \n",
      " 10  alcohol                        1377 non-null   object \n",
      " 11  related_drugs                  1462 non-null   object \n",
      " 12  medical_condition_description  2931 non-null   object \n",
      " 13  rating                         1586 non-null   float64\n",
      " 14  no_of_reviews                  1586 non-null   float64\n",
      " 15  drug_link                      2931 non-null   object \n",
      " 16  medical_condition_url          2931 non-null   object \n",
      "dtypes: float64(2), object(15)\n",
      "memory usage: 389.4+ KB\n"
     ]
    }
   ],
   "source": [
    "#show the main inforation about dataset\n",
    "data.info()"
   ]
  },
  {
   "cell_type": "code",
   "execution_count": 126,
   "id": "d39be552-b5c1-424d-b72c-054b7f0a1e3f",
   "metadata": {},
   "outputs": [
    {
     "data": {
      "text/html": [
       "<div>\n",
       "<style scoped>\n",
       "    .dataframe tbody tr th:only-of-type {\n",
       "        vertical-align: middle;\n",
       "    }\n",
       "\n",
       "    .dataframe tbody tr th {\n",
       "        vertical-align: top;\n",
       "    }\n",
       "\n",
       "    .dataframe thead th {\n",
       "        text-align: right;\n",
       "    }\n",
       "</style>\n",
       "<table border=\"1\" class=\"dataframe\">\n",
       "  <thead>\n",
       "    <tr style=\"text-align: right;\">\n",
       "      <th></th>\n",
       "      <th>drug_name</th>\n",
       "      <th>medical_condition</th>\n",
       "      <th>side_effects</th>\n",
       "      <th>generic_name</th>\n",
       "      <th>drug_classes</th>\n",
       "      <th>brand_names</th>\n",
       "      <th>activity</th>\n",
       "      <th>rx_otc</th>\n",
       "      <th>pregnancy_category</th>\n",
       "      <th>csa</th>\n",
       "      <th>alcohol</th>\n",
       "      <th>related_drugs</th>\n",
       "      <th>medical_condition_description</th>\n",
       "      <th>rating</th>\n",
       "      <th>no_of_reviews</th>\n",
       "      <th>drug_link</th>\n",
       "      <th>medical_condition_url</th>\n",
       "    </tr>\n",
       "  </thead>\n",
       "  <tbody>\n",
       "    <tr>\n",
       "      <th>0</th>\n",
       "      <td>doxycycline</td>\n",
       "      <td>Acne</td>\n",
       "      <td>(hives, difficult breathing, swelling in your ...</td>\n",
       "      <td>doxycycline</td>\n",
       "      <td>Miscellaneous antimalarials, Tetracyclines</td>\n",
       "      <td>Acticlate, Adoxa CK, Adoxa Pak, Adoxa TT, Alod...</td>\n",
       "      <td>87%</td>\n",
       "      <td>Rx</td>\n",
       "      <td>D</td>\n",
       "      <td>N</td>\n",
       "      <td>X</td>\n",
       "      <td>amoxicillin: https://www.drugs.com/amoxicillin...</td>\n",
       "      <td>Acne Other names: Acne Vulgaris; Blackheads; B...</td>\n",
       "      <td>6.8</td>\n",
       "      <td>760.0</td>\n",
       "      <td>https://www.drugs.com/doxycycline.html</td>\n",
       "      <td>https://www.drugs.com/condition/acne.html</td>\n",
       "    </tr>\n",
       "    <tr>\n",
       "      <th>1</th>\n",
       "      <td>spironolactone</td>\n",
       "      <td>Acne</td>\n",
       "      <td>hives ; difficulty breathing; swelling of your...</td>\n",
       "      <td>spironolactone</td>\n",
       "      <td>Aldosterone receptor antagonists, Potassium-sp...</td>\n",
       "      <td>Aldactone, CaroSpir</td>\n",
       "      <td>82%</td>\n",
       "      <td>Rx</td>\n",
       "      <td>C</td>\n",
       "      <td>N</td>\n",
       "      <td>X</td>\n",
       "      <td>amlodipine: https://www.drugs.com/amlodipine.h...</td>\n",
       "      <td>Acne Other names: Acne Vulgaris; Blackheads; B...</td>\n",
       "      <td>7.2</td>\n",
       "      <td>449.0</td>\n",
       "      <td>https://www.drugs.com/spironolactone.html</td>\n",
       "      <td>https://www.drugs.com/condition/acne.html</td>\n",
       "    </tr>\n",
       "    <tr>\n",
       "      <th>2</th>\n",
       "      <td>minocycline</td>\n",
       "      <td>Acne</td>\n",
       "      <td>skin rash, fever, swollen glands, flu-like sym...</td>\n",
       "      <td>minocycline</td>\n",
       "      <td>Tetracyclines</td>\n",
       "      <td>Dynacin, Minocin, Minolira, Solodyn, Ximino, V...</td>\n",
       "      <td>48%</td>\n",
       "      <td>Rx</td>\n",
       "      <td>D</td>\n",
       "      <td>N</td>\n",
       "      <td>NaN</td>\n",
       "      <td>amoxicillin: https://www.drugs.com/amoxicillin...</td>\n",
       "      <td>Acne Other names: Acne Vulgaris; Blackheads; B...</td>\n",
       "      <td>5.7</td>\n",
       "      <td>482.0</td>\n",
       "      <td>https://www.drugs.com/minocycline.html</td>\n",
       "      <td>https://www.drugs.com/condition/acne.html</td>\n",
       "    </tr>\n",
       "    <tr>\n",
       "      <th>3</th>\n",
       "      <td>Accutane</td>\n",
       "      <td>Acne</td>\n",
       "      <td>problems with your vision or hearing; muscle o...</td>\n",
       "      <td>isotretinoin (oral)</td>\n",
       "      <td>Miscellaneous antineoplastics, Miscellaneous u...</td>\n",
       "      <td>NaN</td>\n",
       "      <td>41%</td>\n",
       "      <td>Rx</td>\n",
       "      <td>X</td>\n",
       "      <td>N</td>\n",
       "      <td>X</td>\n",
       "      <td>doxycycline: https://www.drugs.com/doxycycline...</td>\n",
       "      <td>Acne Other names: Acne Vulgaris; Blackheads; B...</td>\n",
       "      <td>7.9</td>\n",
       "      <td>623.0</td>\n",
       "      <td>https://www.drugs.com/accutane.html</td>\n",
       "      <td>https://www.drugs.com/condition/acne.html</td>\n",
       "    </tr>\n",
       "    <tr>\n",
       "      <th>4</th>\n",
       "      <td>clindamycin</td>\n",
       "      <td>Acne</td>\n",
       "      <td>hives ; difficult breathing; swelling of your ...</td>\n",
       "      <td>clindamycin topical</td>\n",
       "      <td>Topical acne agents, Vaginal anti-infectives</td>\n",
       "      <td>Cleocin T, Clindacin ETZ, Clindacin P, Clindag...</td>\n",
       "      <td>39%</td>\n",
       "      <td>Rx</td>\n",
       "      <td>B</td>\n",
       "      <td>N</td>\n",
       "      <td>NaN</td>\n",
       "      <td>doxycycline: https://www.drugs.com/doxycycline...</td>\n",
       "      <td>Acne Other names: Acne Vulgaris; Blackheads; B...</td>\n",
       "      <td>7.4</td>\n",
       "      <td>146.0</td>\n",
       "      <td>https://www.drugs.com/mtm/clindamycin-topical....</td>\n",
       "      <td>https://www.drugs.com/condition/acne.html</td>\n",
       "    </tr>\n",
       "  </tbody>\n",
       "</table>\n",
       "</div>"
      ],
      "text/plain": [
       "        drug_name medical_condition  \\\n",
       "0     doxycycline              Acne   \n",
       "1  spironolactone              Acne   \n",
       "2     minocycline              Acne   \n",
       "3        Accutane              Acne   \n",
       "4     clindamycin              Acne   \n",
       "\n",
       "                                        side_effects         generic_name  \\\n",
       "0  (hives, difficult breathing, swelling in your ...          doxycycline   \n",
       "1  hives ; difficulty breathing; swelling of your...       spironolactone   \n",
       "2  skin rash, fever, swollen glands, flu-like sym...          minocycline   \n",
       "3  problems with your vision or hearing; muscle o...  isotretinoin (oral)   \n",
       "4  hives ; difficult breathing; swelling of your ...  clindamycin topical   \n",
       "\n",
       "                                        drug_classes  \\\n",
       "0         Miscellaneous antimalarials, Tetracyclines   \n",
       "1  Aldosterone receptor antagonists, Potassium-sp...   \n",
       "2                                      Tetracyclines   \n",
       "3  Miscellaneous antineoplastics, Miscellaneous u...   \n",
       "4       Topical acne agents, Vaginal anti-infectives   \n",
       "\n",
       "                                         brand_names activity rx_otc  \\\n",
       "0  Acticlate, Adoxa CK, Adoxa Pak, Adoxa TT, Alod...      87%     Rx   \n",
       "1                                Aldactone, CaroSpir      82%     Rx   \n",
       "2  Dynacin, Minocin, Minolira, Solodyn, Ximino, V...      48%     Rx   \n",
       "3                                                NaN      41%     Rx   \n",
       "4  Cleocin T, Clindacin ETZ, Clindacin P, Clindag...      39%     Rx   \n",
       "\n",
       "  pregnancy_category csa alcohol  \\\n",
       "0                  D   N       X   \n",
       "1                  C   N       X   \n",
       "2                  D   N     NaN   \n",
       "3                  X   N       X   \n",
       "4                  B   N     NaN   \n",
       "\n",
       "                                       related_drugs  \\\n",
       "0  amoxicillin: https://www.drugs.com/amoxicillin...   \n",
       "1  amlodipine: https://www.drugs.com/amlodipine.h...   \n",
       "2  amoxicillin: https://www.drugs.com/amoxicillin...   \n",
       "3  doxycycline: https://www.drugs.com/doxycycline...   \n",
       "4  doxycycline: https://www.drugs.com/doxycycline...   \n",
       "\n",
       "                       medical_condition_description  rating  no_of_reviews  \\\n",
       "0  Acne Other names: Acne Vulgaris; Blackheads; B...     6.8          760.0   \n",
       "1  Acne Other names: Acne Vulgaris; Blackheads; B...     7.2          449.0   \n",
       "2  Acne Other names: Acne Vulgaris; Blackheads; B...     5.7          482.0   \n",
       "3  Acne Other names: Acne Vulgaris; Blackheads; B...     7.9          623.0   \n",
       "4  Acne Other names: Acne Vulgaris; Blackheads; B...     7.4          146.0   \n",
       "\n",
       "                                           drug_link  \\\n",
       "0             https://www.drugs.com/doxycycline.html   \n",
       "1          https://www.drugs.com/spironolactone.html   \n",
       "2             https://www.drugs.com/minocycline.html   \n",
       "3                https://www.drugs.com/accutane.html   \n",
       "4  https://www.drugs.com/mtm/clindamycin-topical....   \n",
       "\n",
       "                       medical_condition_url  \n",
       "0  https://www.drugs.com/condition/acne.html  \n",
       "1  https://www.drugs.com/condition/acne.html  \n",
       "2  https://www.drugs.com/condition/acne.html  \n",
       "3  https://www.drugs.com/condition/acne.html  \n",
       "4  https://www.drugs.com/condition/acne.html  "
      ]
     },
     "execution_count": 126,
     "metadata": {},
     "output_type": "execute_result"
    }
   ],
   "source": [
    "data.head()"
   ]
  },
  {
   "cell_type": "code",
   "execution_count": 162,
   "id": "b8e1f79e-0358-49cf-882b-eb1cbc9b4c91",
   "metadata": {},
   "outputs": [
    {
     "name": "stdout",
     "output_type": "stream",
     "text": [
      "count of Duplicate Rows: 0\n",
      "Empty DataFrame\n",
      "Columns: [drug_name, medical_condition, side_effects, generic_name, drug_classes, activity, rx_otc, pregnancy_category, csa, alcohol, related_drugs, medical_condition_description, rating, no_of_reviews, drug_link, medical_condition_url]\n",
      "Index: []\n"
     ]
    }
   ],
   "source": [
    "# Droping the 'brand_names'column and delete from dataset\n",
    "data.drop(columns=['brand_names'], inplace = True, errors='ignore')\n",
    "\n",
    "# Find duplicate rows based on all columns\n",
    "duplicate_rows = data[data.duplicated ()]\n",
    "\n",
    "#count the duplicate rows \n",
    "duplicate_count= duplicate_rows.shape[0]\n",
    "\n",
    "#print the count of dupicate rows\n",
    "print (\"count of Duplicate Rows:\", duplicate_count)\n",
    "\n",
    "print (duplicate_rows)"
   ]
  },
  {
   "cell_type": "code",
   "execution_count": 160,
   "id": "3a00ce02-bc29-428f-ba55-44ae4da104a0",
   "metadata": {},
   "outputs": [
    {
     "name": "stdout",
     "output_type": "stream",
     "text": [
      "object     14\n",
      "float64     2\n",
      "Name: count, dtype: int64\n"
     ]
    }
   ],
   "source": [
    "# Convert 'rating' and 'no_of_reviews' attributes to numeric\n",
    "data['rating'] = pd.to_numeric(data['rating'], errors='coerce')\n",
    "\n",
    "# data['no_of_reviews'] = pd.to_numeric(data['no_of_reviews'], errors='coerce')\n",
    "print(data.dtypes.value_counts())"
   ]
  },
  {
   "cell_type": "code",
   "execution_count": 166,
   "id": "38bf927c-1aa0-4636-a122-ad1d6472a86e",
   "metadata": {},
   "outputs": [
    {
     "name": "stdout",
     "output_type": "stream",
     "text": [
      "0    0.87\n",
      "1    0.82\n",
      "2    0.48\n",
      "3    0.41\n",
      "4    0.39\n",
      "Name: activity, dtype: float64\n"
     ]
    }
   ],
   "source": [
    "# Convert 'activity' to string, remove whitespace and '%' character, then convert to float and divide by 100\n",
    "data['activity'] = data['activity'].astype(str).str.replace(r'\\s+', '',\n",
    "regex=True).str.rstrip('%').astype('float')/100\n",
    "\n",
    "# Display the updated 'activity' column\n",
    "print(data['activity'].head())"
   ]
  },
  {
   "cell_type": "code",
   "execution_count": 192,
   "id": "ad1de69e-5640-4a1f-87a6-e31a43fc2bef",
   "metadata": {},
   "outputs": [
    {
     "name": "stdout",
     "output_type": "stream",
     "text": [
      "There are 6192 missing values in this dataset\n",
      "Number of instances = 2931\n",
      "Number of attributes = 16\n",
      "Number of missing values:\n",
      "\tdrug_name: 0\n",
      "\tmedical_condition: 0\n",
      "\tside_effects: 124\n",
      "\tgeneric_name: 43\n",
      "\tdrug_classes: 82\n",
      "\tactivity: 0\n",
      "\trx_otc: 1\n",
      "\tpregnancy_category: 229\n",
      "\tcsa: 0\n",
      "\talcohol: 1554\n",
      "\trelated_drugs: 1469\n",
      "\tmedical_condition_description: 0\n",
      "\trating: 1345\n",
      "\tno_of_reviews: 1345\n",
      "\tdrug_link: 0\n",
      "\tmedical_condition_url: 0\n"
     ]
    }
   ],
   "source": [
    "# Print the total number of missing values\n",
    "print(\"There are {} missing values in this dataset\".format(data.isnull().sum().sum()))\n",
    "\n",
    "print('Number of instances = %d' % (data.shape[0]))\n",
    "print('Number of attributes = %d' % (data.shape[1]))\n",
    "print('Number of missing values:')\n",
    "for col in data.columns:\n",
    "    print('\\t%s: %d' % (col,data[col].isna().sum()))"
   ]
  },
  {
   "cell_type": "code",
   "execution_count": 212,
   "id": "9836df9a-2df3-41e9-906f-0e99d3c53cc6",
   "metadata": {},
   "outputs": [],
   "source": [
    "# In the alcohol column we have X and null(NaN) values, because the drug can interact with alcohol or not.\n",
    "# Therefore, let's replace the values of ak=lcohol column with boolean values.\n",
    "# Let X will be 1 of interaction, NaN will be 0.\n",
    "data['alcohol']=data['alcohol'].replace(np.NaN,'0')\n",
    "data['alcohol']=data['alcohol'].replace({'X': 1})"
   ]
  },
  {
   "cell_type": "code",
   "execution_count": 214,
   "id": "19d12111-f776-4da8-a77f-b82b97d7bbbd",
   "metadata": {},
   "outputs": [],
   "source": [
    "# To avoid missing values let's fill them with some information\n",
    "# In our case we will replace all them\n",
    "# Fill the null values in 'side_effects' and 'related_drugs' with no\n",
    "data[\"side_effects\"] = data['side_effects'].fillna('Unknown')\n",
    "data[\"related_drugs\"] = data['related_drugs'].fillna('Unknown')"
   ]
  },
  {
   "cell_type": "code",
   "execution_count": 216,
   "id": "c2a1e63a-d709-4189-9dfc-07d1da53d9c8",
   "metadata": {},
   "outputs": [],
   "source": [
    "# Fill the null values with 0 as a base for 'rating' and 'no_of_reviews' columns\n",
    "# It will show that there are no information about it\n",
    "data[\"rating\"] = data['rating'].fillna('0')\n",
    "data[\"no_of_reviews\"] = data['no_of_reviews'].fillna('0')"
   ]
  },
  {
   "cell_type": "code",
   "execution_count": 218,
   "id": "1704fd8d-d093-41b8-af3c-ee2f0ddb5dc3",
   "metadata": {},
   "outputs": [],
   "source": [
    "# Fill the null values with ?\n",
    "data['generic_name']=data['generic_name'].replace(np.NaN,'Unknown')"
   ]
  },
  {
   "cell_type": "code",
   "execution_count": 220,
   "id": "b314c587-7c29-46df-a92c-337fc5dcce81",
   "metadata": {},
   "outputs": [],
   "source": [
    "# Fill the null values with undefined for 'drug_classes'\n",
    "data['drug_classes']=data['drug_classes'].replace(np.NaN,'Unknown')"
   ]
  },
  {
   "cell_type": "code",
   "execution_count": 224,
   "id": "c45b56b2-ab0e-40ec-9920-b295dde9952f",
   "metadata": {},
   "outputs": [
    {
     "data": {
      "text/plain": [
       "array(['Rx', 'Rx/OTC', 'OTC', nan], dtype=object)"
      ]
     },
     "execution_count": 224,
     "metadata": {},
     "output_type": "execute_result"
    }
   ],
   "source": [
    "# For these two columns we already have some category values from dataset's description\n",
    "# So, let's check the categorical values\n",
    "# For Rx_OTC\n",
    "data[\"rx_otc\"].unique()"
   ]
  },
  {
   "cell_type": "code",
   "execution_count": 236,
   "id": "0f972005-5ec6-4f26-bd04-ff69aad379f6",
   "metadata": {},
   "outputs": [
    {
     "data": {
      "text/plain": [
       "array(['D', 'C', 'X', 'B', 'N', nan, 'A'], dtype=object)"
      ]
     },
     "execution_count": 236,
     "metadata": {},
     "output_type": "execute_result"
    }
   ],
   "source": [
    "# For pregnancy categories\n",
    "data[\"pregnancy_category\"].unique()"
   ]
  },
  {
   "cell_type": "code",
   "execution_count": 240,
   "id": "baeaec01-077e-49f3-ace9-617be802aa2a",
   "metadata": {},
   "outputs": [
    {
     "name": "stdout",
     "output_type": "stream",
     "text": [
      "        drug_name medical_condition  \\\n",
      "0     doxycycline              Acne   \n",
      "1  spironolactone              Acne   \n",
      "2     minocycline              Acne   \n",
      "3        Accutane              Acne   \n",
      "4     clindamycin              Acne   \n",
      "\n",
      "                                        side_effects         generic_name  \\\n",
      "0  (hives, difficult breathing, swelling in your ...          doxycycline   \n",
      "1  hives ; difficulty breathing; swelling of your...       spironolactone   \n",
      "2  skin rash, fever, swollen glands, flu-like sym...          minocycline   \n",
      "3  problems with your vision or hearing; muscle o...  isotretinoin (oral)   \n",
      "4  hives ; difficult breathing; swelling of your ...  clindamycin topical   \n",
      "\n",
      "                                        drug_classes  activity rx_otc  \\\n",
      "0         Miscellaneous antimalarials, Tetracyclines      0.87     Rx   \n",
      "1  Aldosterone receptor antagonists, Potassium-sp...      0.82     Rx   \n",
      "2                                      Tetracyclines      0.48     Rx   \n",
      "3  Miscellaneous antineoplastics, Miscellaneous u...      0.41     Rx   \n",
      "4       Topical acne agents, Vaginal anti-infectives      0.39     Rx   \n",
      "\n",
      "  pregnancy_category csa alcohol  \\\n",
      "0                  D   N       1   \n",
      "1                  C   N       1   \n",
      "2                  D   N       0   \n",
      "3                  X   N       1   \n",
      "4                  B   N       0   \n",
      "\n",
      "                                       related_drugs  \\\n",
      "0  amoxicillin: https://www.drugs.com/amoxicillin...   \n",
      "1  amlodipine: https://www.drugs.com/amlodipine.h...   \n",
      "2  amoxicillin: https://www.drugs.com/amoxicillin...   \n",
      "3  doxycycline: https://www.drugs.com/doxycycline...   \n",
      "4  doxycycline: https://www.drugs.com/doxycycline...   \n",
      "\n",
      "                       medical_condition_description rating  no_of_reviews  \\\n",
      "0  Acne Other names: Acne Vulgaris; Blackheads; B...    6.8          760.0   \n",
      "1  Acne Other names: Acne Vulgaris; Blackheads; B...    7.2          449.0   \n",
      "2  Acne Other names: Acne Vulgaris; Blackheads; B...    5.7          482.0   \n",
      "3  Acne Other names: Acne Vulgaris; Blackheads; B...    7.9          623.0   \n",
      "4  Acne Other names: Acne Vulgaris; Blackheads; B...    7.4          146.0   \n",
      "\n",
      "                                           drug_link  \\\n",
      "0             https://www.drugs.com/doxycycline.html   \n",
      "1          https://www.drugs.com/spironolactone.html   \n",
      "2             https://www.drugs.com/minocycline.html   \n",
      "3                https://www.drugs.com/accutane.html   \n",
      "4  https://www.drugs.com/mtm/clindamycin-topical....   \n",
      "\n",
      "                       medical_condition_url  \n",
      "0  https://www.drugs.com/condition/acne.html  \n",
      "1  https://www.drugs.com/condition/acne.html  \n",
      "2  https://www.drugs.com/condition/acne.html  \n",
      "3  https://www.drugs.com/condition/acne.html  \n",
      "4  https://www.drugs.com/condition/acne.html  \n"
     ]
    }
   ],
   "source": [
    "# Fill the null value with Unknown as a basic value\n",
    "data['rx_otc']=data['rx_otc'].replace(np.NaN, 'Unknown')\n",
    "# Fill the null value with Unknown as a basic value\n",
    "data['pregnancy_category']=data['pregnancy_category'].replace(np.NaN, 'Unknown')\n",
    "data['no_of_reviews'] = pd.to_numeric(data['no_of_reviews'], errors='coerce')\n",
    "print(data.head())\n",
    "dfs=data.copy()"
   ]
  },
  {
   "cell_type": "code",
   "execution_count": 246,
   "id": "7457b108-2f81-4725-a813-fb69c8ebdcc9",
   "metadata": {},
   "outputs": [
    {
     "name": "stdout",
     "output_type": "stream",
     "text": [
      "There are 0 missing values in this dataset\n",
      "Number of instances = 2931\n",
      "Number of attributes = 16\n",
      "Number of missing values:\n",
      "\tdrug_name: 0\n",
      "\tmedical_condition: 0\n",
      "\tside_effects: 0\n",
      "\tgeneric_name: 0\n",
      "\tdrug_classes: 0\n",
      "\tactivity: 0\n",
      "\trx_otc: 0\n",
      "\tpregnancy_category: 0\n",
      "\tcsa: 0\n",
      "\talcohol: 0\n",
      "\trelated_drugs: 0\n",
      "\tmedical_condition_description: 0\n",
      "\trating: 0\n",
      "\tno_of_reviews: 0\n",
      "\tdrug_link: 0\n",
      "\tmedical_condition_url: 0\n"
     ]
    }
   ],
   "source": [
    "# Let's check is there any missing values left\n",
    "print(\"There are {} missing values in this dataset\".format(data.isnull().sum().sum()))\n",
    "print('Number of instances = %d' % (data.shape[0]))\n",
    "print('Number of attributes = %d' % (data.shape[1]))\n",
    "print('Number of missing values:')\n",
    "for col in data.columns: \n",
    "    print('\\t%s: %d' % (col,data[col].isna().sum()))"
   ]
  },
  {
   "cell_type": "code",
   "execution_count": 248,
   "id": "b1a20195-615f-49fa-b296-1333b076c57d",
   "metadata": {},
   "outputs": [
    {
     "name": "stdout",
     "output_type": "stream",
     "text": [
      "        drug_name medical_condition  \\\n",
      "0     doxycycline              Acne   \n",
      "1  spironolactone              Acne   \n",
      "2     minocycline              Acne   \n",
      "3        Accutane              Acne   \n",
      "4     clindamycin              Acne   \n",
      "\n",
      "                                        side_effects         generic_name  \\\n",
      "0  (hives, difficult breathing, swelling in your ...          doxycycline   \n",
      "1  hives ; difficulty breathing; swelling of your...       spironolactone   \n",
      "2  skin rash, fever, swollen glands, flu-like sym...          minocycline   \n",
      "3  problems with your vision or hearing; muscle o...  isotretinoin (oral)   \n",
      "4  hives ; difficult breathing; swelling of your ...  clindamycin topical   \n",
      "\n",
      "                                        drug_classes  activity rx_otc  \\\n",
      "0         Miscellaneous antimalarials, Tetracyclines      0.87     Rx   \n",
      "1  Aldosterone receptor antagonists, Potassium-sp...      0.82     Rx   \n",
      "2                                      Tetracyclines      0.48     Rx   \n",
      "3  Miscellaneous antineoplastics, Miscellaneous u...      0.41     Rx   \n",
      "4       Topical acne agents, Vaginal anti-infectives      0.39     Rx   \n",
      "\n",
      "  pregnancy_category csa alcohol  \\\n",
      "0                  D   N       1   \n",
      "1                  C   N       1   \n",
      "2                  D   N       0   \n",
      "3                  X   N       1   \n",
      "4                  B   N       0   \n",
      "\n",
      "                                       related_drugs  \\\n",
      "0  amoxicillin: https://www.drugs.com/amoxicillin...   \n",
      "1  amlodipine: https://www.drugs.com/amlodipine.h...   \n",
      "2  amoxicillin: https://www.drugs.com/amoxicillin...   \n",
      "3  doxycycline: https://www.drugs.com/doxycycline...   \n",
      "4  doxycycline: https://www.drugs.com/doxycycline...   \n",
      "\n",
      "                       medical_condition_description rating  no_of_reviews  \\\n",
      "0  Acne Other names: Acne Vulgaris; Blackheads; B...    6.8          760.0   \n",
      "1  Acne Other names: Acne Vulgaris; Blackheads; B...    7.2          449.0   \n",
      "2  Acne Other names: Acne Vulgaris; Blackheads; B...    5.7          482.0   \n",
      "3  Acne Other names: Acne Vulgaris; Blackheads; B...    7.9          623.0   \n",
      "4  Acne Other names: Acne Vulgaris; Blackheads; B...    7.4          146.0   \n",
      "\n",
      "                                           drug_link  \\\n",
      "0             https://www.drugs.com/doxycycline.html   \n",
      "1          https://www.drugs.com/spironolactone.html   \n",
      "2             https://www.drugs.com/minocycline.html   \n",
      "3                https://www.drugs.com/accutane.html   \n",
      "4  https://www.drugs.com/mtm/clindamycin-topical....   \n",
      "\n",
      "                       medical_condition_url  \n",
      "0  https://www.drugs.com/condition/acne.html  \n",
      "1  https://www.drugs.com/condition/acne.html  \n",
      "2  https://www.drugs.com/condition/acne.html  \n",
      "3  https://www.drugs.com/condition/acne.html  \n",
      "4  https://www.drugs.com/condition/acne.html  \n"
     ]
    }
   ],
   "source": [
    "data_version2=data.copy()\n",
    "print(data_version2.head())    # Print head of dataset to our check"
   ]
  },
  {
   "cell_type": "code",
   "execution_count": 250,
   "id": "8c8ee1ff-4ae4-46b8-908f-f59a4e96a03f",
   "metadata": {},
   "outputs": [],
   "source": [
    "# Save the data\n",
    "data_version2.to_csv('drugs_side_effects_drugs_com_version2.csv', index=False)\n"
   ]
  },
  {
   "cell_type": "code",
   "execution_count": 252,
   "id": "b565b031-a64a-4b94-b1a2-4ed3ff9a1920",
   "metadata": {},
   "outputs": [
    {
     "data": {
      "text/plain": [
       "array(['D', 'C', 'X', 'B', 'N', 'Unknown', 'A'], dtype=object)"
      ]
     },
     "execution_count": 252,
     "metadata": {},
     "output_type": "execute_result"
    }
   ],
   "source": [
    "# Read the new version dataset\n",
    "data_ver3=pd.read_csv('drugs_side_effects_drugs_com_version2.csv')\n",
    "data_ver3[\"pregnancy_category\"].unique()"
   ]
  },
  {
   "cell_type": "code",
   "execution_count": 254,
   "id": "feda6af9-4f8f-4f76-9cb3-892ad456d764",
   "metadata": {},
   "outputs": [
    {
     "data": {
      "text/plain": [
       "array(['N', '2', '4', 'U', 'M', '5', '3'], dtype=object)"
      ]
     },
     "execution_count": 254,
     "metadata": {},
     "output_type": "execute_result"
    }
   ],
   "source": [
    "data_ver3[\"csa\"].unique()"
   ]
  },
  {
   "cell_type": "code",
   "execution_count": 256,
   "id": "76ac88f3-ae9d-4f95-b0d8-c3f0fe2d2fb1",
   "metadata": {},
   "outputs": [
    {
     "data": {
      "text/plain": [
       "array(['Rx', 'Rx/OTC', 'OTC', 'Unknown'], dtype=object)"
      ]
     },
     "execution_count": 256,
     "metadata": {},
     "output_type": "execute_result"
    }
   ],
   "source": [
    "data_ver3[\"rx_otc\"].unique()"
   ]
  },
  {
   "cell_type": "code",
   "execution_count": 258,
   "id": "93f20d99-ab18-4fe1-8c4f-518f4110d446",
   "metadata": {},
   "outputs": [
    {
     "data": {
      "text/plain": [
       "array(['doxycycline', 'spironolactone', 'minocycline', ...,\n",
       "       'fenfluramine', 'phendimetrazine tartrate', 'setmelanotide'],\n",
       "      dtype=object)"
      ]
     },
     "execution_count": 258,
     "metadata": {},
     "output_type": "execute_result"
    }
   ],
   "source": [
    "data_ver3[\"generic_name\"].unique()"
   ]
  },
  {
   "cell_type": "code",
   "execution_count": 260,
   "id": "d520a46c-4a41-47be-b42c-5f22c0417465",
   "metadata": {},
   "outputs": [
    {
     "data": {
      "text/plain": [
       "array(['Acne', 'ADHD', 'AIDS/HIV', 'Allergies', \"Alzheimer's\", 'Angina',\n",
       "       'Anxiety', 'Asthma', 'Bipolar Disorder', 'Bronchitis', 'Cancer',\n",
       "       'Cholesterol', 'Colds & Flu', 'Constipation', 'COPD', 'Covid 19',\n",
       "       'Depression', 'Diabetes (Type 1)', 'Diabetes (Type 2)', 'Diarrhea',\n",
       "       'Eczema', 'Erectile Dysfunction', 'Gastrointestinal',\n",
       "       'GERD (Heartburn)', 'Gout', 'Hair Loss', 'Hayfever', 'Herpes',\n",
       "       'Hypertension', 'Hypothyroidism', 'IBD (Bowel)', 'Incontinence',\n",
       "       'Insomnia', 'Menopause', 'Migraine', 'Osteoarthritis',\n",
       "       'Osteoporosis', 'Pain', 'Pneumonia', 'Psoriasis',\n",
       "       'Rheumatoid Arthritis', 'Schizophrenia', 'Seizures', 'Stroke',\n",
       "       'Swine Flu', 'UTI', 'Weight Loss'], dtype=object)"
      ]
     },
     "execution_count": 260,
     "metadata": {},
     "output_type": "execute_result"
    }
   ],
   "source": [
    "data_ver3[\"medical_condition\"].unique()"
   ]
  },
  {
   "cell_type": "code",
   "execution_count": 274,
   "id": "df1c77a2-198f-4ab6-85f9-450bf38d1dc8",
   "metadata": {},
   "outputs": [],
   "source": [
    "from sklearn.preprocessing import LabelEncoder\n",
    "label_encoder = LabelEncoder()\n",
    "data_ver3[\"csa\"]=label_encoder.fit_transform(data_ver3[\"csa\"])\n",
    "data_ver3[\"rx_otc\"]=label_encoder.fit_transform(data_ver3[\"rx_otc\"])\n",
    "data_ver3[\"generic_name\"] = label_encoder.fit_transform(data_ver3[\"generic_name\"])\n",
    "data_ver3[\"medical_condition\"] = label_encoder.fit_transform(data_ver3[\"medical_condition\"])\n",
    "data_ver3[\"pregnancy_category\"] = label_encoder.fit_transform(data_ver3[\"pregnancy_category\"])\n",
    "data_ver3[\"side_effects\"] = label_encoder.fit_transform(data_ver3[\"side_effects\"])\n"
   ]
  },
  {
   "cell_type": "code",
   "execution_count": 276,
   "id": "ac1e4784-8866-4cb0-86f9-d433164cd610",
   "metadata": {},
   "outputs": [
    {
     "data": {
      "text/plain": [
       "array([ 642, 1270, 1034, ...,  729, 1157, 1259], dtype=int64)"
      ]
     },
     "execution_count": 276,
     "metadata": {},
     "output_type": "execute_result"
    }
   ],
   "source": [
    "data_ver3[\"generic_name\"].unique()"
   ]
  },
  {
   "cell_type": "code",
   "execution_count": 278,
   "id": "c58745e3-f590-4e77-b062-73a211fe9a1f",
   "metadata": {},
   "outputs": [
    {
     "data": {
      "text/plain": [
       "array([1, 2, 0, 3], dtype=int64)"
      ]
     },
     "execution_count": 278,
     "metadata": {},
     "output_type": "execute_result"
    }
   ],
   "source": [
    "data_ver3[\"rx_otc\"].unique()"
   ]
  },
  {
   "cell_type": "code",
   "execution_count": 280,
   "id": "80b4c37f-b835-4dd3-9564-bf58767437a8",
   "metadata": {},
   "outputs": [
    {
     "data": {
      "text/plain": [
       "array([5, 0, 2, 6, 4, 3, 1], dtype=int64)"
      ]
     },
     "execution_count": 280,
     "metadata": {},
     "output_type": "execute_result"
    }
   ],
   "source": [
    "data_ver3[\"csa\"].unique()"
   ]
  },
  {
   "cell_type": "code",
   "execution_count": 282,
   "id": "93ebc789-0a9b-44dd-aba0-bfcda6298f13",
   "metadata": {},
   "outputs": [
    {
     "data": {
      "text/plain": [
       "array([  15, 1972, 2697, ..., 1647,  416, 1706], dtype=int64)"
      ]
     },
     "execution_count": 282,
     "metadata": {},
     "output_type": "execute_result"
    }
   ],
   "source": [
    "data_ver3[\"side_effects\"].unique()"
   ]
  },
  {
   "cell_type": "code",
   "execution_count": 284,
   "id": "336aa92d-5a49-47df-80e8-6d87adc96e96",
   "metadata": {},
   "outputs": [
    {
     "data": {
      "text/plain": [
       "array([ 2,  0,  1,  3,  4,  5,  6,  7,  8,  9, 11, 12, 13, 14, 10, 15, 16,\n",
       "       17, 18, 19, 20, 21, 23, 22, 24, 25, 26, 27, 28, 29, 30, 31, 32, 33,\n",
       "       34, 35, 36, 37, 38, 39, 40, 41, 42, 43, 44, 45, 46], dtype=int64)"
      ]
     },
     "execution_count": 284,
     "metadata": {},
     "output_type": "execute_result"
    }
   ],
   "source": [
    "data_ver3[\"medical_condition\"].unique()"
   ]
  },
  {
   "cell_type": "code",
   "execution_count": 286,
   "id": "8c6f0f52-607f-45c8-915b-73d0dda50da3",
   "metadata": {},
   "outputs": [
    {
     "data": {
      "text/plain": [
       "array([3, 2, 6, 1, 4, 5, 0], dtype=int64)"
      ]
     },
     "execution_count": 286,
     "metadata": {},
     "output_type": "execute_result"
    }
   ],
   "source": [
    "data_ver3[\"pregnancy_category\"].unique()"
   ]
  },
  {
   "cell_type": "code",
   "execution_count": 288,
   "id": "eeacdcda-30a0-4eec-815c-dc5d8516ec1e",
   "metadata": {},
   "outputs": [
    {
     "data": {
      "text/html": [
       "<div>\n",
       "<style scoped>\n",
       "    .dataframe tbody tr th:only-of-type {\n",
       "        vertical-align: middle;\n",
       "    }\n",
       "\n",
       "    .dataframe tbody tr th {\n",
       "        vertical-align: top;\n",
       "    }\n",
       "\n",
       "    .dataframe thead th {\n",
       "        text-align: right;\n",
       "    }\n",
       "</style>\n",
       "<table border=\"1\" class=\"dataframe\">\n",
       "  <thead>\n",
       "    <tr style=\"text-align: right;\">\n",
       "      <th></th>\n",
       "      <th>generic_name</th>\n",
       "      <th>medical_condition</th>\n",
       "      <th>no_of_reviews</th>\n",
       "      <th>side_effects</th>\n",
       "      <th>rating</th>\n",
       "      <th>csa</th>\n",
       "      <th>pregnancy_category</th>\n",
       "      <th>rx_otc</th>\n",
       "      <th>alcohol</th>\n",
       "    </tr>\n",
       "  </thead>\n",
       "  <tbody>\n",
       "    <tr>\n",
       "      <th>0</th>\n",
       "      <td>642</td>\n",
       "      <td>2</td>\n",
       "      <td>760.0</td>\n",
       "      <td>15</td>\n",
       "      <td>6.8</td>\n",
       "      <td>5</td>\n",
       "      <td>3</td>\n",
       "      <td>1</td>\n",
       "      <td>1</td>\n",
       "    </tr>\n",
       "    <tr>\n",
       "      <th>1</th>\n",
       "      <td>1270</td>\n",
       "      <td>2</td>\n",
       "      <td>449.0</td>\n",
       "      <td>1972</td>\n",
       "      <td>7.2</td>\n",
       "      <td>5</td>\n",
       "      <td>2</td>\n",
       "      <td>1</td>\n",
       "      <td>1</td>\n",
       "    </tr>\n",
       "    <tr>\n",
       "      <th>2</th>\n",
       "      <td>1034</td>\n",
       "      <td>2</td>\n",
       "      <td>482.0</td>\n",
       "      <td>2697</td>\n",
       "      <td>5.7</td>\n",
       "      <td>5</td>\n",
       "      <td>3</td>\n",
       "      <td>1</td>\n",
       "      <td>0</td>\n",
       "    </tr>\n",
       "    <tr>\n",
       "      <th>3</th>\n",
       "      <td>903</td>\n",
       "      <td>2</td>\n",
       "      <td>623.0</td>\n",
       "      <td>2570</td>\n",
       "      <td>7.9</td>\n",
       "      <td>5</td>\n",
       "      <td>6</td>\n",
       "      <td>1</td>\n",
       "      <td>1</td>\n",
       "    </tr>\n",
       "    <tr>\n",
       "      <th>4</th>\n",
       "      <td>505</td>\n",
       "      <td>2</td>\n",
       "      <td>146.0</td>\n",
       "      <td>1260</td>\n",
       "      <td>7.4</td>\n",
       "      <td>5</td>\n",
       "      <td>1</td>\n",
       "      <td>1</td>\n",
       "      <td>0</td>\n",
       "    </tr>\n",
       "    <tr>\n",
       "      <th>5</th>\n",
       "      <td>1270</td>\n",
       "      <td>2</td>\n",
       "      <td>8.0</td>\n",
       "      <td>1971</td>\n",
       "      <td>7.6</td>\n",
       "      <td>5</td>\n",
       "      <td>2</td>\n",
       "      <td>1</td>\n",
       "      <td>1</td>\n",
       "    </tr>\n",
       "    <tr>\n",
       "      <th>6</th>\n",
       "      <td>1335</td>\n",
       "      <td>2</td>\n",
       "      <td>439.0</td>\n",
       "      <td>1895</td>\n",
       "      <td>7.7</td>\n",
       "      <td>5</td>\n",
       "      <td>2</td>\n",
       "      <td>1</td>\n",
       "      <td>0</td>\n",
       "    </tr>\n",
       "    <tr>\n",
       "      <th>7</th>\n",
       "      <td>903</td>\n",
       "      <td>2</td>\n",
       "      <td>999.0</td>\n",
       "      <td>2577</td>\n",
       "      <td>8.0</td>\n",
       "      <td>5</td>\n",
       "      <td>6</td>\n",
       "      <td>1</td>\n",
       "      <td>1</td>\n",
       "    </tr>\n",
       "    <tr>\n",
       "      <th>8</th>\n",
       "      <td>1276</td>\n",
       "      <td>2</td>\n",
       "      <td>96.0</td>\n",
       "      <td>2702</td>\n",
       "      <td>8.5</td>\n",
       "      <td>5</td>\n",
       "      <td>3</td>\n",
       "      <td>1</td>\n",
       "      <td>1</td>\n",
       "    </tr>\n",
       "    <tr>\n",
       "      <th>9</th>\n",
       "      <td>162</td>\n",
       "      <td>2</td>\n",
       "      <td>86.0</td>\n",
       "      <td>2405</td>\n",
       "      <td>7.9</td>\n",
       "      <td>5</td>\n",
       "      <td>2</td>\n",
       "      <td>1</td>\n",
       "      <td>0</td>\n",
       "    </tr>\n",
       "  </tbody>\n",
       "</table>\n",
       "</div>"
      ],
      "text/plain": [
       "   generic_name  medical_condition  no_of_reviews  side_effects  rating  csa  \\\n",
       "0           642                  2          760.0            15     6.8    5   \n",
       "1          1270                  2          449.0          1972     7.2    5   \n",
       "2          1034                  2          482.0          2697     5.7    5   \n",
       "3           903                  2          623.0          2570     7.9    5   \n",
       "4           505                  2          146.0          1260     7.4    5   \n",
       "5          1270                  2            8.0          1971     7.6    5   \n",
       "6          1335                  2          439.0          1895     7.7    5   \n",
       "7           903                  2          999.0          2577     8.0    5   \n",
       "8          1276                  2           96.0          2702     8.5    5   \n",
       "9           162                  2           86.0          2405     7.9    5   \n",
       "\n",
       "   pregnancy_category  rx_otc  alcohol  \n",
       "0                   3       1        1  \n",
       "1                   2       1        1  \n",
       "2                   3       1        0  \n",
       "3                   6       1        1  \n",
       "4                   1       1        0  \n",
       "5                   2       1        1  \n",
       "6                   2       1        0  \n",
       "7                   6       1        1  \n",
       "8                   3       1        1  \n",
       "9                   2       1        0  "
      ]
     },
     "execution_count": 288,
     "metadata": {},
     "output_type": "execute_result"
    }
   ],
   "source": [
    "df=pd.DataFrame(data_ver3,columns=('generic_name', 'medical_condition',\n",
    "'no_of_reviews', 'side_effects', 'rating', 'csa', 'pregnancy_category', 'rx_otc',\n",
    "'alcohol'))\n",
    "df.head(10)"
   ]
  },
  {
   "cell_type": "code",
   "execution_count": 290,
   "id": "8e3dc179-7749-43d6-a99a-7503dd42d330",
   "metadata": {},
   "outputs": [
    {
     "name": "stdout",
     "output_type": "stream",
     "text": [
      "[[-0.11111578 -1.43400434  5.10119829 ...  0.28892455 -0.17025661\n",
      "   1.06232778]\n",
      " [ 1.50040103 -1.43400434  2.89586941 ... -0.43301735 -0.17025661\n",
      "   1.06232778]\n",
      " [ 0.89479917 -1.43400434  3.12987537 ...  0.28892455 -0.17025661\n",
      "  -0.94132905]\n",
      " ...\n",
      " [ 1.21043065  1.82918864 -0.28802985 ... -0.43301735 -0.17025661\n",
      "   1.06232778]\n",
      " [ 1.47217383  1.82918864 -0.28802985 ...  1.73280834 -0.17025661\n",
      "  -0.94132905]\n",
      " [ 1.47217383  1.82918864 -0.28802985 ...  1.73280834 -0.17025661\n",
      "  -0.94132905]]\n"
     ]
    }
   ],
   "source": [
    "from sklearn.preprocessing import StandardScaler\n",
    "scaler=StandardScaler()\n",
    "scaler.fit(df)\n",
    "scaled_data=scaler.transform(df)\n",
    "print(scaled_data)"
   ]
  },
  {
   "cell_type": "code",
   "execution_count": 292,
   "id": "bdb32be4-a80a-4c89-b002-a56e7f238f46",
   "metadata": {},
   "outputs": [
    {
     "name": "stdout",
     "output_type": "stream",
     "text": [
      "      generic_name  medical_condition  no_of_reviews  side_effects    rating  \\\n",
      "0        -0.111116          -1.434004       5.101198     -1.678954  0.819930   \n",
      "1         1.500401          -1.434004       2.895869      0.778579  0.925271   \n",
      "2         0.894799          -1.434004       3.129875      1.689009  0.530244   \n",
      "3         0.558639          -1.434004       4.129719      1.529527  1.109617   \n",
      "4        -0.462673          -1.434004       0.747269     -0.115526  0.977941   \n",
      "...            ...                ...            ...           ...       ...   \n",
      "2926     -0.832193           1.829189      -0.167481      0.757231  1.004277   \n",
      "2927      0.112136           1.829189      -0.288030      0.370455 -0.970861   \n",
      "2928      1.210431           1.829189      -0.288030     -1.029724 -0.970861   \n",
      "2929      1.472174           1.829189      -0.288030     -1.175392 -0.970861   \n",
      "2930      1.472174           1.829189      -0.288030      0.444545 -0.970861   \n",
      "\n",
      "           csa  pregnancy_category    rx_otc   alcohol  \n",
      "0     0.274178            0.288925 -0.170257  1.062328  \n",
      "1     0.274178           -0.433017 -0.170257  1.062328  \n",
      "2     0.274178            0.288925 -0.170257 -0.941329  \n",
      "3     0.274178            2.454750 -0.170257  1.062328  \n",
      "4     0.274178           -1.154959 -0.170257 -0.941329  \n",
      "...        ...                 ...       ...       ...  \n",
      "2926 -3.424857            2.454750 -0.170257  1.062328  \n",
      "2927 -2.500098           -0.433017 -0.170257  1.062328  \n",
      "2928 -3.424857           -0.433017 -0.170257  1.062328  \n",
      "2929  0.274178            1.732808 -0.170257 -0.941329  \n",
      "2930  0.274178            1.732808 -0.170257 -0.941329  \n",
      "\n",
      "[2931 rows x 9 columns]\n"
     ]
    }
   ],
   "source": [
    "df_std = pd.DataFrame(scaler.fit_transform(df), columns=df.columns)\n",
    "print(df_std)"
   ]
  },
  {
   "cell_type": "code",
   "execution_count": 377,
   "id": "8c82fd6c-ad80-4f4a-9ab4-6fcd07bf89e8",
   "metadata": {},
   "outputs": [
    {
     "data": {
      "image/png": "[encoded data removed]",
      "text/plain": [
       "<Figure size 1200x800 with 2 Axes>"
      ]
     },
     "metadata": {},
     "output_type": "display_data"
    }
   ],
   "source": [
    "import seaborn as sns\n",
    "import matplotlib.pyplot as plt\n",
    "plt.figure(figsize=(12, 8))\n",
    "sns.heatmap(df.corr(), annot=True, cmap='coolwarm', fmt=\".2f\")\n",
    "plt.title('Correlation Heatmap')\n",
    "plt.show()"
   ]
  },
  {
   "cell_type": "code",
   "execution_count": 297,
   "id": "1445c7e5-0647-4f03-8605-cd67dedfb279",
   "metadata": {},
   "outputs": [],
   "source": [
    "# Read the new version dataset\n",
    "data_ver4 = pd.read_csv('drugs_side_effects_drugs_com_version2.csv')"
   ]
  },
  {
   "cell_type": "code",
   "execution_count": 311,
   "id": "6a66b87f-c736-4eca-ad82-6761562ee5df",
   "metadata": {},
   "outputs": [
    {
     "name": "stdout",
     "output_type": "stream",
     "text": [
      "\n",
      "Medical condition occurrence and frequency (sorted from highest to lowest):\n",
      "medical_condition\n",
      "Pain                    264\n",
      "Colds & Flu             245\n",
      "Acne                    238\n",
      "Hypertension            177\n",
      "Osteoarthritis          129\n",
      "Hayfever                124\n",
      "Eczema                  122\n",
      "AIDS/HIV                109\n",
      "Diabetes (Type 2)       104\n",
      "Psoriasis                93\n",
      "GERD (Heartburn)         77\n",
      "Pneumonia                72\n",
      "Angina                   71\n",
      "Bronchitis               71\n",
      "Migraine                 61\n",
      "Insomnia                 60\n",
      "Constipation             60\n",
      "Diabetes (Type 1)        57\n",
      "Osteoporosis             56\n",
      "ADHD                     55\n",
      "Depression               51\n",
      "Seizures                 50\n",
      "Bipolar Disorder         47\n",
      "UTI                      46\n",
      "Asthma                   45\n",
      "Anxiety                  45\n",
      "Cholesterol              45\n",
      "Diarrhea                 38\n",
      "Covid 19                 34\n",
      "Rheumatoid Arthritis     33\n",
      "Alzheimer's              27\n",
      "Weight Loss              23\n",
      "COPD                     23\n",
      "IBD (Bowel)              22\n",
      "Schizophrenia            20\n",
      "Cancer                   20\n",
      "Incontinence             19\n",
      "Hypothyroidism           17\n",
      "Allergies                14\n",
      "Erectile Dysfunction     13\n",
      "Hair Loss                11\n",
      "Herpes                   10\n",
      "Gout                      9\n",
      "Menopause                 7\n",
      "Gastrointestinal          7\n",
      "Stroke                    5\n",
      "Swine Flu                 5\n",
      "Name: count, dtype: int64\n"
     ]
    }
   ],
   "source": [
    "# Importing necessary libraries\n",
    "#from mlxtend.frequent_patterns import apriori, association_rules\n",
    "import matplotlib.pyplot as plt\n",
    "import pandas as pd\n",
    "# Check for occurrence and frequency of medical conditions, sorted from highest to lowest\n",
    "medical_condition_counts = data_ver4['medical_condition'].value_counts().sort_values(ascending=False)\n",
    "print(\"\\nMedical condition occurrence and frequency (sorted from highest to lowest):\")\n",
    "print(medical_condition_counts)"
   ]
  },
  {
   "cell_type": "code",
   "execution_count": 325,
   "id": "58e5f3f4-4e6b-4eeb-9d9e-10375098e483",
   "metadata": {},
   "outputs": [],
   "source": [
    "# Save the results to CSV files if needed\n",
    "medical_condition_counts.to_csv('medical_condition_counts.csv')"
   ]
  },
  {
   "cell_type": "code",
   "execution_count": 327,
   "id": "4726245e-1d54-4f25-a947-fe341459072c",
   "metadata": {},
   "outputs": [],
   "source": [
    "# Importing necessary libraries for processing text\n",
    "from collections import Counter\n",
    "import re\n",
    "# Function to extract side effects from text, split by semicolons\n",
    "def extract_side_effects(text):\n",
    "# Split the text on semicolons then strip whitespace\n",
    " return [effect.strip() for effect in re.split(r'[;]', text)]"
   ]
  },
  {
   "cell_type": "code",
   "execution_count": 329,
   "id": "7040032b-43f3-4a38-87e6-1b3617031ddb",
   "metadata": {},
   "outputs": [
    {
     "name": "stdout",
     "output_type": "stream",
     "text": [
      "\n",
      "Side effects occurrence and frequency (sorted from highest to lowest):\n",
      "side_effects\n",
      "hives                                                                                                                                                                                                                                                                                                                                                                                                                                                                                                                                                                                                                                                                                                                                                                                                                                                                                                                                                                                                                                                                                                                                                                                                          1788\n",
      "difficult breathing                                                                                                                                                                                                                                                                                                                                                                                                                                                                                                                                                                                                                                                                                                                                                                                                                                                                                                                                                                                                                                                                                                                                                                                            1130\n",
      "difficulty breathing                                                                                                                                                                                                                                                                                                                                                                                                                                                                                                                                                                                                                                                                                                                                                                                                                                                                                                                                                                                                                                                                                                                                                                                            450\n",
      "itching                                                                                                                                                                                                                                                                                                                                                                                                                                                                                                                                                                                                                                                                                                                                                                                                                                                                                                                                                                                                                                                                                                                                                                                                         275\n",
      "a light-headed feeling, like you might pass out                                                                                                                                                                                                                                                                                                                                                                                                                                                                                                                                                                                                                                                                                                                                                                                                                                                                                                                                                                                                                                                                                                                                                                 272\n",
      "                                                                                                                                                                                                                                                                                                                                                                                                                                                                                                                                                                                                                                                                                                                                                                                                                                                                                                                                                                                                                                                                                                                                                                                                               ... \n",
      "swelling of your face, lips, tongue, or throat. Rizatriptan may cause serious side effects. Stop using rizatriptan and call your doctor at once if you have: sudden and severe stomach pain and bloody diarrhea                                                                                                                                                                                                                                                                                                                                                                                                                                                                                                                                                                                                                                                                                                                                                                                                                                                                                                                                                                                                   1\n",
      "swelling of your face, lips, tongue, or throat. Report any new or worsening symptoms to your doctor, such as: mood or behavior changes, anxiety , panic attacks , trouble sleeping, or if you feel impulsive, irritable, agitated, hostile, aggressive, restless, hyperactive (mentally or physically), depressed, or have thoughts about suicide or hurting yourself. Zarontin may cause serious side effects. Call your doctor at once if you have: fever, chills, flu symptoms, sore throat , feeling very weak                                                                                                                                                                                                                                                                                                                                                                                                                                                                                                                                                                                                                                                                                                1\n",
      "or signs of a stroke--sudden numbness or weakness (especially on one side of the body), sudden severe headache, slurred speech, problems with vision or balance. Common side effects of rizatriptan may include: dizziness , drowsiness, feeling tired                                                                                                                                                                                                                                                                                                                                                                                                                                                                                                                                                                                                                                                                                                                                                                                                                                                                                                                                                            1\n",
      "Suddenly stopping or reducing the dose of Diastat AcuDial very quickly may precipitate acute withdrawal reactions, which can be life-threatening. In some cases, patients have developed withdrawal symptoms lasting weeks to more than 12 months, including but not limited to: anxiety difficulty thinking mental changes depression insomnia abnormal skin sensations muscle weakness tremors twitching ringing in your ears burning or prickling feeling in your hands, arms, or feet The most frequent side effect reported for Diastat AcuDial in clinical studies was somnolence (sleepiness or drowsiness). Other side effects included dizziness, headache, pain, abdominal pain, nervousness, vasodilation (increase in diameter of blood vessel), diarrhea, ataxia/incoordination (lack of coordination), euphoria (feeling of great happiness or well-being), asthma, rhinitis (irritation of the nose similar to an allergy or a cold), and rash. You are encouraged to report negative side effects of prescription drugs to the FDA. Visit www.fda.gov/medwatch, or call 1-800-FDA-1088. You may also contact Bausch Health Customer Service at 1-800-321-4576. Diastat AcuDial side effects       1\n",
      "or nausea , vomiting , diarrhea , or stomach pain.                                                                                                                                                                                                                                                                                                                                                                                                                                                                                                                                                                                                                                                                                                                                                                                                                                                                                                                                                                                                                                                                                                                                                                1\n",
      "Name: count, Length: 8438, dtype: int64\n"
     ]
    }
   ],
   "source": [
    "# Extract and count occurrences of side effects\n",
    "side_effects = data_ver4['side_effects'].dropna().apply(extract_side_effects).explode()\n",
    "side_effect_counts = side_effects.value_counts().sort_values(ascending=False)\n",
    "print(\"\\nSide effects occurrence and frequency (sorted from highest to lowest):\")\n",
    "print(side_effect_counts)"
   ]
  },
  {
   "cell_type": "code",
   "execution_count": 331,
   "id": "ed9852bb-1533-4b85-a402-7a1cc2938afb",
   "metadata": {},
   "outputs": [],
   "source": [
    "# Save the side effect counts to a CSV file\n",
    "side_effect_counts.to_csv('side_effect_counts.csv')"
   ]
  },
  {
   "cell_type": "code",
   "execution_count": 339,
   "id": "92c2ce07-7c62-47b3-9943-24bb0992317c",
   "metadata": {},
   "outputs": [],
   "source": [
    "# Function to extract drug classes from text, split by commas\n",
    "def extract_drug_classes(text):\n",
    "# Split the text on commas then strip whitespace\n",
    " return [effect.strip() for effect in re.split(r'[,]', text)]"
   ]
  },
  {
   "cell_type": "code",
   "execution_count": 341,
   "id": "b4d30b5b-2a41-48cd-8aa6-21381eb74b47",
   "metadata": {},
   "outputs": [
    {
     "name": "stdout",
     "output_type": "stream",
     "text": [
      "\n",
      "Drug Classes occurrence and frequency (sorted from highest to lowest):\n",
      "drug_classes\n",
      "Upper respiratory combinations           245\n",
      "Topical acne agents                      125\n",
      "Topical steroids                          94\n",
      "Antihistamines                            82\n",
      "Unknown                                   82\n",
      "                                        ... \n",
      "Immune globulins                           1\n",
      "Smoking cessation agents                   1\n",
      "Mouth and throat products                  1\n",
      "Skeletal muscle relaxant combinations      1\n",
      "Anthelmintics                              1\n",
      "Name: count, Length: 244, dtype: int64\n"
     ]
    }
   ],
   "source": [
    "# Extract and count occurrences of drug classes\n",
    "drug_classes = data_ver4['drug_classes'].dropna().apply(extract_drug_classes).explode()\n",
    "drug_classes_counts = drug_classes.value_counts().sort_values(ascending=False)\n",
    "print(\"\\nDrug Classes occurrence and frequency (sorted from highest to lowest):\")\n",
    "print(drug_classes_counts)"
   ]
  },
  {
   "cell_type": "code",
   "execution_count": 345,
   "id": "c2b2a50f-2549-4a12-96d4-87c6b559846d",
   "metadata": {},
   "outputs": [],
   "source": [
    "# Save the drug classes counts to a CSV file\n",
    "drug_classes_counts.to_csv('drug_classes_counts.csv')"
   ]
  },
  {
   "cell_type": "code",
   "execution_count": 355,
   "id": "2bfb5668-64f3-4774-8b49-4900d37b18ac",
   "metadata": {},
   "outputs": [],
   "source": [
    "# Define functions to check for specific side effects and create new boolean columns\n",
    "def has_hives(text):\n",
    "    return 'hives' in text.lower()\n",
    "data_ver4['Hives'] = data_ver4['side_effects'].apply(has_hives)\n",
    "\n",
    "def has_difficult_breathing(text):\n",
    "    return 'difficult breathing' in text.lower() or 'difficulty breathing' in text.lower()\n",
    "data_ver4['Difficult Breathing'] = data_ver4['side_effects'].apply(has_difficult_breathing)\n",
    "\n",
    "def has_itching(text):\n",
    "    return 'itching' in text.lower()\n",
    "data_ver4['Itching'] = data_ver4['side_effects'].apply(has_itching)\n",
    "\n",
    "# Define functions to check for specific drug classes and create new boolean columns\n",
    "def is_usc(text):\n",
    "    return 'Upper respiratory combinations' in text\n",
    "data_ver4['Upper respiratory combinations'] = data_ver4['drug_classes'].apply(is_usc)\n",
    "\n",
    "def is_steriods(text):\n",
    "    return 'Topical steroids' in text\n",
    "data_ver4['Topical steroids'] = data_ver4['drug_classes'].apply(is_steriods)\n",
    "\n",
    "def is_acne(text):\n",
    "    return 'Topical acne agents' in text\n",
    "data_ver4['Topical acne agents'] = data_ver4['drug_classes'].apply(is_acne)"
   ]
  },
  {
   "cell_type": "code",
   "execution_count": 361,
   "id": "ada16998-0ab4-4211-bcfb-35bcb977098f",
   "metadata": {},
   "outputs": [],
   "source": [
    "# Define functions to check for specific medical conditions and create new boolean columns\n",
    "def has_pain(text):\n",
    "    return 'Pain' in text\n",
    "data_ver4['Pain'] = data_ver4['medical_condition'].apply(has_pain)\n",
    "\n",
    "def has_colds_and_flu(text):\n",
    "    return 'Colds & Flu' in text\n",
    "data_ver4['Colds & Flu'] = data_ver4['medical_condition'].apply(has_colds_and_flu)\n",
    "\n",
    "def has_acne(text):\n",
    "    return 'Acne' in text\n",
    "data_ver4['Acne'] = data_ver4['medical_condition'].apply(has_acne)"
   ]
  },
  {
   "cell_type": "code",
   "execution_count": 363,
   "id": "4d8e35cf-3db7-4c0f-b82a-3cecbf6667f9",
   "metadata": {},
   "outputs": [
    {
     "data": {
      "image/png": "[encoded data removed]",
      "text/plain": [
       "<Figure size 640x480 with 1 Axes>"
      ]
     },
     "metadata": {},
     "output_type": "display_data"
    }
   ],
   "source": [
    "# Plot the count of occurrences for each side effect\n",
    "import seaborn as sns\n",
    "# Plot count of Hives\n",
    "data_ver4['Hives'].value_counts().plot(kind='bar')\n",
    "plt.title('Count of Hives')\n",
    "plt.xlabel('Hives')\n",
    "plt.ylabel('Count')\n",
    "plt.xticks([0, 1], ['False', 'True'], rotation=0)\n",
    "plt.show()"
   ]
  },
  {
   "cell_type": "code",
   "execution_count": 373,
   "id": "e95c909c-dc8c-4fd0-a8f1-b8c7284ab88f",
   "metadata": {},
   "outputs": [
    {
     "data": {
      "image/png": "[encoded data removed]",
      "text/plain": [
       "<Figure size 640x480 with 1 Axes>"
      ]
     },
     "metadata": {},
     "output_type": "display_data"
    }
   ],
   "source": [
    "# Plot count of Difficult Breathing\n",
    "data_ver4['Difficult Breathing'].value_counts().plot(kind='bar')\n",
    "plt.title('Count of Difficult Breathing')\n",
    "plt.xlabel('Difficult Breathing')\n",
    "plt.ylabel('Count')\n",
    "plt.xticks([0, 1], ['False', 'True'], rotation=0)\n",
    "plt.show()"
   ]
  },
  {
   "cell_type": "code",
   "execution_count": 371,
   "id": "f25968a9-1135-4b80-aba9-38c7162773d1",
   "metadata": {},
   "outputs": [
    {
     "data": {
      "image/png": "[encoded data removed]",
      "text/plain": [
       "<Figure size 640x480 with 1 Axes>"
      ]
     },
     "metadata": {},
     "output_type": "display_data"
    }
   ],
   "source": [
    "# Plot count of Itching\n",
    "data_ver4['Itching'].value_counts().plot(kind='bar')\n",
    "plt.title('Count of Itching')\n",
    "plt.xlabel('Itching')\n",
    "plt.ylabel('Count')\n",
    "plt.xticks([0, 1], ['False', 'True'], rotation=0)\n",
    "plt.show()"
   ]
  },
  {
   "cell_type": "code",
   "execution_count": 367,
   "id": "593ce369-63de-43e5-a35e-32d12735ee97",
   "metadata": {},
   "outputs": [
    {
     "data": {
      "image/png": "[encoded data removed]",
      "text/plain": [
       "<Figure size 640x480 with 1 Axes>"
      ]
     },
     "metadata": {},
     "output_type": "display_data"
    }
   ],
   "source": [
    "# Plot the count of occurrences for each drug class\n",
    "# Plot count of Upper respiratory combinations\n",
    "data_ver4['Upper respiratory combinations'].value_counts().plot(kind='bar')\n",
    "plt.title('Count of Upper respiratory combinations')\n",
    "plt.xlabel('Upper respiratory combinations')\n",
    "plt.ylabel('Count')\n",
    "plt.xticks([0, 1], ['False', 'True'], rotation=0)\n",
    "plt.show()"
   ]
  },
  {
   "cell_type": "code",
   "execution_count": 369,
   "id": "388d9030-3c03-45c1-835f-1ca6d698a479",
   "metadata": {},
   "outputs": [
    {
     "data": {
      "image/png": "[encoded data removed]",
      "text/plain": [
       "<Figure size 640x480 with 1 Axes>"
      ]
     },
     "metadata": {},
     "output_type": "display_data"
    }
   ],
   "source": [
    "# Plot count of Topical steroids\n",
    "data_ver4['Topical steroids'].value_counts().plot(kind='bar')\n",
    "plt.title('Count of Topical steroids')\n",
    "plt.xlabel('Topical steroids')\n",
    "plt.ylabel('Count')\n",
    "plt.xticks([0, 1], ['False', 'True'], rotation=0)\n",
    "plt.show()\n"
   ]
  }
 ],
 "metadata": {
  "kernelspec": {
   "display_name": "Python 3 (ipykernel)",
   "language": "python",
   "name": "python3"
  },
  "language_info": {
   "codemirror_mode": {
    "name": "ipython",
    "version": 3
   },
   "file_extension": ".py",
   "mimetype": "text/x-python",
   "name": "python",
   "nbconvert_exporter": "python",
   "pygments_lexer": "ipython3",
   "version": "3.12.4"
  }
 },
 "nbformat": 4,
 "nbformat_minor": 5
}
